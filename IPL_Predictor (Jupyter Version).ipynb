{
 "cells": [
  {
   "cell_type": "code",
   "execution_count": 1,
   "id": "d3c379c8",
   "metadata": {},
   "outputs": [],
   "source": [
    "import pandas as pd\n",
    "import numpy as np"
   ]
  },
  {
   "cell_type": "code",
   "execution_count": 2,
   "id": "9d042b32",
   "metadata": {},
   "outputs": [],
   "source": [
    "ipl = pd.read_csv('C:/Users/Arvin Brian/OneDrive/Desktop/Leetcode/IPL/IPL_Matches_2008-2020.csv')"
   ]
  },
  {
   "cell_type": "code",
   "execution_count": 3,
   "id": "4c9c6e74",
   "metadata": {},
   "outputs": [
    {
     "data": {
      "text/plain": [
       "Index(['id', 'city', 'date', 'player_of_match', 'venue', 'neutral_venue',\n",
       "       'team1', 'team2', 'toss_winner', 'toss_decision', 'winner', 'result',\n",
       "       'result_margin', 'eliminator', 'method', 'umpire1', 'umpire2'],\n",
       "      dtype='object')"
      ]
     },
     "execution_count": 3,
     "metadata": {},
     "output_type": "execute_result"
    }
   ],
   "source": [
    "ipl.head()\n",
    "ipl.columns"
   ]
  },
  {
   "cell_type": "code",
   "execution_count": 4,
   "id": "77ae7575",
   "metadata": {},
   "outputs": [
    {
     "data": {
      "text/plain": [
       "Royal Challengers Bangalore    108\n",
       "Mumbai Indians                  97\n",
       "Kolkata Knight Riders           95\n",
       "Chennai Super Kings             94\n",
       "Kings XI Punjab                 92\n",
       "Delhi Daredevils                83\n",
       "Rajasthan Royals                70\n",
       "Sunrisers Hyderabad             59\n",
       "Deccan Chargers                 39\n",
       "Pune Warriors                   23\n",
       "Delhi Capitals                  19\n",
       "Gujarat Lions                   16\n",
       "Kochi Tuskers Kerala             7\n",
       "Rising Pune Supergiants          7\n",
       "Rising Pune Supergiant           7\n",
       "Name: team1, dtype: int64"
      ]
     },
     "execution_count": 4,
     "metadata": {},
     "output_type": "execute_result"
    }
   ],
   "source": [
    "ipl[\"team1\"].value_counts()"
   ]
  },
  {
   "cell_type": "code",
   "execution_count": 5,
   "id": "fc9a7dba",
   "metadata": {},
   "outputs": [
    {
     "data": {
      "text/plain": [
       "\"'ipl['team1']=ipl['team1'].str.replace('Deccan Chargers','Sunrisers Hyderabad')\\nipl['team2']=ipl['team2'].str.replace('Deccan Chargers','Sunrisers Hyderabad')\\nipl['winner']=ipl['winner'].str.replace('Deccan Chargers','Sunrisers Hyderabad')\\nipl['toss_winner']=ipl['toss_winner'].str.replace('Deccan Chargers','Sunrisers Hyderabad')\""
      ]
     },
     "execution_count": 5,
     "metadata": {},
     "output_type": "execute_result"
    }
   ],
   "source": [
    "#for Delhi Capitals\n",
    "ipl['team1']=ipl['team1'].str.replace('Delhi Daredevils','Delhi Capitals')\n",
    "ipl['team2']=ipl['team2'].str.replace('Delhi Daredevils','Delhi Capitals')\n",
    "ipl['winner']=ipl['winner'].str.replace('Delhi Daredevils','Delhi Capitals')\n",
    "ipl['toss_winner']=ipl['toss_winner'].str.replace('Delhi Daredevils','Delhi Capitals')\n",
    "#for sunrisers Hyderabad\n",
    "''''ipl['team1']=ipl['team1'].str.replace('Deccan Chargers','Sunrisers Hyderabad')\n",
    "ipl['team2']=ipl['team2'].str.replace('Deccan Chargers','Sunrisers Hyderabad')\n",
    "ipl['winner']=ipl['winner'].str.replace('Deccan Chargers','Sunrisers Hyderabad')\n",
    "ipl['toss_winner']=ipl['toss_winner'].str.replace('Deccan Chargers','Sunrisers Hyderabad')'''\n",
    "#ipl = ipl.drop(['neutral_venue'], axis=1)"
   ]
  },
  {
   "cell_type": "code",
   "execution_count": 6,
   "id": "498e9854",
   "metadata": {},
   "outputs": [],
   "source": [
    "index_names = ipl[(ipl.team1 == 'Deccan Chargers') | (ipl.team2 == 'Deccan Chargers') | (ipl.winner == 'Deccan Chargers') | (ipl.toss_winner == 'Deccan Chargers')].index\n",
    "ipl.drop(index_names, inplace = True)"
   ]
  },
  {
   "cell_type": "code",
   "execution_count": 7,
   "id": "85cb5e71",
   "metadata": {},
   "outputs": [
    {
     "data": {
      "text/plain": [
       "0      False\n",
       "1      False\n",
       "2      False\n",
       "3      False\n",
       "5      False\n",
       "       ...  \n",
       "811    False\n",
       "812    False\n",
       "813    False\n",
       "814    False\n",
       "815    False\n",
       "Name: team1, Length: 741, dtype: bool"
      ]
     },
     "execution_count": 7,
     "metadata": {},
     "output_type": "execute_result"
    }
   ],
   "source": [
    "ipl['team1'] == 'Deccan Chargers'"
   ]
  },
  {
   "cell_type": "code",
   "execution_count": 8,
   "id": "376d9b21",
   "metadata": {},
   "outputs": [
    {
     "data": {
      "text/plain": [
       "id                   int64\n",
       "city                object\n",
       "date                object\n",
       "player_of_match     object\n",
       "venue               object\n",
       "neutral_venue        int64\n",
       "team1               object\n",
       "team2               object\n",
       "toss_winner         object\n",
       "toss_decision       object\n",
       "winner              object\n",
       "result              object\n",
       "result_margin      float64\n",
       "eliminator          object\n",
       "method              object\n",
       "umpire1             object\n",
       "umpire2             object\n",
       "dtype: object"
      ]
     },
     "execution_count": 8,
     "metadata": {},
     "output_type": "execute_result"
    }
   ],
   "source": [
    "ipl.dtypes"
   ]
  },
  {
   "cell_type": "code",
   "execution_count": 9,
   "id": "2a525bbe",
   "metadata": {},
   "outputs": [],
   "source": [
    "#converting Date from string to \"date time\" format\n",
    "#ipl['date'] = pd.to_datetime(ipl['date'])\n",
    "#ipl.dtypes"
   ]
  },
  {
   "cell_type": "markdown",
   "id": "9554efe2",
   "metadata": {},
   "source": [
    "Now we make **Predictors** columns for the target variable:"
   ]
  },
  {
   "cell_type": "code",
   "execution_count": 10,
   "id": "c3f6c848",
   "metadata": {},
   "outputs": [],
   "source": [
    "ipl.drop([\"date\",\"id\", \"player_of_match\", 'umpire1', \"venue\", \"umpire2\",\"result\",\"result_margin\",\"eliminator\",\"method\"], axis=1, inplace=True)\n"
   ]
  },
  {
   "cell_type": "code",
   "execution_count": 11,
   "id": "6d2adedf",
   "metadata": {
    "scrolled": false
   },
   "outputs": [
    {
     "data": {
      "text/html": [
       "<div>\n",
       "<style scoped>\n",
       "    .dataframe tbody tr th:only-of-type {\n",
       "        vertical-align: middle;\n",
       "    }\n",
       "\n",
       "    .dataframe tbody tr th {\n",
       "        vertical-align: top;\n",
       "    }\n",
       "\n",
       "    .dataframe thead th {\n",
       "        text-align: right;\n",
       "    }\n",
       "</style>\n",
       "<table border=\"1\" class=\"dataframe\">\n",
       "  <thead>\n",
       "    <tr style=\"text-align: right;\">\n",
       "      <th></th>\n",
       "      <th>city</th>\n",
       "      <th>neutral_venue</th>\n",
       "      <th>team1</th>\n",
       "      <th>team2</th>\n",
       "      <th>toss_winner</th>\n",
       "      <th>toss_decision</th>\n",
       "      <th>winner</th>\n",
       "    </tr>\n",
       "  </thead>\n",
       "  <tbody>\n",
       "    <tr>\n",
       "      <th>0</th>\n",
       "      <td>Bangalore</td>\n",
       "      <td>0</td>\n",
       "      <td>Royal Challengers Bangalore</td>\n",
       "      <td>Kolkata Knight Riders</td>\n",
       "      <td>Royal Challengers Bangalore</td>\n",
       "      <td>field</td>\n",
       "      <td>Kolkata Knight Riders</td>\n",
       "    </tr>\n",
       "    <tr>\n",
       "      <th>1</th>\n",
       "      <td>Chandigarh</td>\n",
       "      <td>0</td>\n",
       "      <td>Kings XI Punjab</td>\n",
       "      <td>Chennai Super Kings</td>\n",
       "      <td>Chennai Super Kings</td>\n",
       "      <td>bat</td>\n",
       "      <td>Chennai Super Kings</td>\n",
       "    </tr>\n",
       "    <tr>\n",
       "      <th>2</th>\n",
       "      <td>Delhi</td>\n",
       "      <td>0</td>\n",
       "      <td>Delhi Capitals</td>\n",
       "      <td>Rajasthan Royals</td>\n",
       "      <td>Rajasthan Royals</td>\n",
       "      <td>bat</td>\n",
       "      <td>Delhi Capitals</td>\n",
       "    </tr>\n",
       "    <tr>\n",
       "      <th>3</th>\n",
       "      <td>Mumbai</td>\n",
       "      <td>0</td>\n",
       "      <td>Mumbai Indians</td>\n",
       "      <td>Royal Challengers Bangalore</td>\n",
       "      <td>Mumbai Indians</td>\n",
       "      <td>bat</td>\n",
       "      <td>Royal Challengers Bangalore</td>\n",
       "    </tr>\n",
       "    <tr>\n",
       "      <th>5</th>\n",
       "      <td>Jaipur</td>\n",
       "      <td>0</td>\n",
       "      <td>Rajasthan Royals</td>\n",
       "      <td>Kings XI Punjab</td>\n",
       "      <td>Kings XI Punjab</td>\n",
       "      <td>bat</td>\n",
       "      <td>Rajasthan Royals</td>\n",
       "    </tr>\n",
       "  </tbody>\n",
       "</table>\n",
       "</div>"
      ],
      "text/plain": [
       "         city  neutral_venue                        team1  \\\n",
       "0   Bangalore              0  Royal Challengers Bangalore   \n",
       "1  Chandigarh              0              Kings XI Punjab   \n",
       "2       Delhi              0               Delhi Capitals   \n",
       "3      Mumbai              0               Mumbai Indians   \n",
       "5      Jaipur              0             Rajasthan Royals   \n",
       "\n",
       "                         team2                  toss_winner toss_decision  \\\n",
       "0        Kolkata Knight Riders  Royal Challengers Bangalore         field   \n",
       "1          Chennai Super Kings          Chennai Super Kings           bat   \n",
       "2             Rajasthan Royals             Rajasthan Royals           bat   \n",
       "3  Royal Challengers Bangalore               Mumbai Indians           bat   \n",
       "5              Kings XI Punjab              Kings XI Punjab           bat   \n",
       "\n",
       "                        winner  \n",
       "0        Kolkata Knight Riders  \n",
       "1          Chennai Super Kings  \n",
       "2               Delhi Capitals  \n",
       "3  Royal Challengers Bangalore  \n",
       "5             Rajasthan Royals  "
      ]
     },
     "execution_count": 11,
     "metadata": {},
     "output_type": "execute_result"
    }
   ],
   "source": [
    "ipl.head()"
   ]
  },
  {
   "cell_type": "code",
   "execution_count": 12,
   "id": "bbbce977",
   "metadata": {},
   "outputs": [],
   "source": [
    "X = ipl.drop([\"winner\"], axis=1)\n",
    "y = ipl[\"winner\"]"
   ]
  },
  {
   "cell_type": "code",
   "execution_count": 13,
   "id": "c00b911a",
   "metadata": {},
   "outputs": [],
   "source": [
    "X = pd.get_dummies(X, [\"city\", \"team1\",\"team2\", \"toss_winner\", \"toss_decision\"], drop_first = True)"
   ]
  },
  {
   "cell_type": "code",
   "execution_count": 36,
   "id": "76115c94",
   "metadata": {},
   "outputs": [
    {
     "data": {
      "text/plain": [
       "Index(['neutral_venue', 'city_Ahmedabad', 'city_Bangalore', 'city_Bengaluru',\n",
       "       'city_Bloemfontein', 'city_Cape Town', 'city_Centurion',\n",
       "       'city_Chandigarh', 'city_Chennai', 'city_Cuttack', 'city_Delhi',\n",
       "       'city_Dharamsala', 'city_Dubai', 'city_Durban', 'city_East London',\n",
       "       'city_Hyderabad', 'city_Indore', 'city_Jaipur', 'city_Johannesburg',\n",
       "       'city_Kanpur', 'city_Kimberley', 'city_Kochi', 'city_Kolkata',\n",
       "       'city_Mumbai', 'city_Port Elizabeth', 'city_Pune', 'city_Raipur',\n",
       "       'city_Rajkot', 'city_Ranchi', 'city_Sharjah', 'city_Visakhapatnam',\n",
       "       'team1_Delhi Capitals', 'team1_Gujarat Lions', 'team1_Kings XI Punjab',\n",
       "       'team1_Kochi Tuskers Kerala', 'team1_Kolkata Knight Riders',\n",
       "       'team1_Mumbai Indians', 'team1_Pune Warriors', 'team1_Rajasthan Royals',\n",
       "       'team1_Rising Pune Supergiant', 'team1_Rising Pune Supergiants',\n",
       "       'team1_Royal Challengers Bangalore', 'team1_Sunrisers Hyderabad',\n",
       "       'team2_Delhi Capitals', 'team2_Gujarat Lions', 'team2_Kings XI Punjab',\n",
       "       'team2_Kochi Tuskers Kerala', 'team2_Kolkata Knight Riders',\n",
       "       'team2_Mumbai Indians', 'team2_Pune Warriors', 'team2_Rajasthan Royals',\n",
       "       'team2_Rising Pune Supergiant', 'team2_Rising Pune Supergiants',\n",
       "       'team2_Royal Challengers Bangalore', 'team2_Sunrisers Hyderabad',\n",
       "       'toss_winner_Delhi Capitals', 'toss_winner_Gujarat Lions',\n",
       "       'toss_winner_Kings XI Punjab', 'toss_winner_Kochi Tuskers Kerala',\n",
       "       'toss_winner_Kolkata Knight Riders', 'toss_winner_Mumbai Indians',\n",
       "       'toss_winner_Pune Warriors', 'toss_winner_Rajasthan Royals',\n",
       "       'toss_winner_Rising Pune Supergiant',\n",
       "       'toss_winner_Rising Pune Supergiants',\n",
       "       'toss_winner_Royal Challengers Bangalore',\n",
       "       'toss_winner_Sunrisers Hyderabad', 'toss_decision_field'],\n",
       "      dtype='object')"
      ]
     },
     "execution_count": 36,
     "metadata": {},
     "output_type": "execute_result"
    }
   ],
   "source": []
  },
  {
   "cell_type": "code",
   "execution_count": 14,
   "id": "56a2a148",
   "metadata": {},
   "outputs": [
    {
     "data": {
      "text/html": [
       "<div>\n",
       "<style scoped>\n",
       "    .dataframe tbody tr th:only-of-type {\n",
       "        vertical-align: middle;\n",
       "    }\n",
       "\n",
       "    .dataframe tbody tr th {\n",
       "        vertical-align: top;\n",
       "    }\n",
       "\n",
       "    .dataframe thead th {\n",
       "        text-align: right;\n",
       "    }\n",
       "</style>\n",
       "<table border=\"1\" class=\"dataframe\">\n",
       "  <thead>\n",
       "    <tr style=\"text-align: right;\">\n",
       "      <th></th>\n",
       "      <th>city</th>\n",
       "      <th>neutral_venue</th>\n",
       "      <th>team1</th>\n",
       "      <th>team2</th>\n",
       "      <th>toss_winner</th>\n",
       "      <th>toss_decision</th>\n",
       "      <th>winner</th>\n",
       "    </tr>\n",
       "  </thead>\n",
       "  <tbody>\n",
       "    <tr>\n",
       "      <th>0</th>\n",
       "      <td>Bangalore</td>\n",
       "      <td>0</td>\n",
       "      <td>Royal Challengers Bangalore</td>\n",
       "      <td>Kolkata Knight Riders</td>\n",
       "      <td>Royal Challengers Bangalore</td>\n",
       "      <td>field</td>\n",
       "      <td>Kolkata Knight Riders</td>\n",
       "    </tr>\n",
       "    <tr>\n",
       "      <th>1</th>\n",
       "      <td>Chandigarh</td>\n",
       "      <td>0</td>\n",
       "      <td>Kings XI Punjab</td>\n",
       "      <td>Chennai Super Kings</td>\n",
       "      <td>Chennai Super Kings</td>\n",
       "      <td>bat</td>\n",
       "      <td>Chennai Super Kings</td>\n",
       "    </tr>\n",
       "    <tr>\n",
       "      <th>2</th>\n",
       "      <td>Delhi</td>\n",
       "      <td>0</td>\n",
       "      <td>Delhi Capitals</td>\n",
       "      <td>Rajasthan Royals</td>\n",
       "      <td>Rajasthan Royals</td>\n",
       "      <td>bat</td>\n",
       "      <td>Delhi Capitals</td>\n",
       "    </tr>\n",
       "    <tr>\n",
       "      <th>3</th>\n",
       "      <td>Mumbai</td>\n",
       "      <td>0</td>\n",
       "      <td>Mumbai Indians</td>\n",
       "      <td>Royal Challengers Bangalore</td>\n",
       "      <td>Mumbai Indians</td>\n",
       "      <td>bat</td>\n",
       "      <td>Royal Challengers Bangalore</td>\n",
       "    </tr>\n",
       "    <tr>\n",
       "      <th>5</th>\n",
       "      <td>Jaipur</td>\n",
       "      <td>0</td>\n",
       "      <td>Rajasthan Royals</td>\n",
       "      <td>Kings XI Punjab</td>\n",
       "      <td>Kings XI Punjab</td>\n",
       "      <td>bat</td>\n",
       "      <td>Rajasthan Royals</td>\n",
       "    </tr>\n",
       "  </tbody>\n",
       "</table>\n",
       "</div>"
      ],
      "text/plain": [
       "         city  neutral_venue                        team1  \\\n",
       "0   Bangalore              0  Royal Challengers Bangalore   \n",
       "1  Chandigarh              0              Kings XI Punjab   \n",
       "2       Delhi              0               Delhi Capitals   \n",
       "3      Mumbai              0               Mumbai Indians   \n",
       "5      Jaipur              0             Rajasthan Royals   \n",
       "\n",
       "                         team2                  toss_winner toss_decision  \\\n",
       "0        Kolkata Knight Riders  Royal Challengers Bangalore         field   \n",
       "1          Chennai Super Kings          Chennai Super Kings           bat   \n",
       "2             Rajasthan Royals             Rajasthan Royals           bat   \n",
       "3  Royal Challengers Bangalore               Mumbai Indians           bat   \n",
       "5              Kings XI Punjab              Kings XI Punjab           bat   \n",
       "\n",
       "                        winner  \n",
       "0        Kolkata Knight Riders  \n",
       "1          Chennai Super Kings  \n",
       "2               Delhi Capitals  \n",
       "3  Royal Challengers Bangalore  \n",
       "5             Rajasthan Royals  "
      ]
     },
     "execution_count": 14,
     "metadata": {},
     "output_type": "execute_result"
    }
   ],
   "source": [
    "ipl.head()"
   ]
  },
  {
   "cell_type": "code",
   "execution_count": 15,
   "id": "ac626ca7",
   "metadata": {},
   "outputs": [
    {
     "data": {
      "text/plain": [
       "city             object\n",
       "neutral_venue     int64\n",
       "team1            object\n",
       "team2            object\n",
       "toss_winner      object\n",
       "toss_decision    object\n",
       "winner           object\n",
       "dtype: object"
      ]
     },
     "execution_count": 15,
     "metadata": {},
     "output_type": "execute_result"
    }
   ],
   "source": [
    "from sklearn.preprocessing import LabelEncoder\n",
    "le = LabelEncoder()\n",
    "y = le.fit_transform(y)\n",
    "\n",
    "ipl.dtypes"
   ]
  },
  {
   "cell_type": "code",
   "execution_count": 63,
   "id": "f0e0b7d2",
   "metadata": {},
   "outputs": [
    {
     "data": {
      "text/plain": [
       "Index(['city', 'neutral_venue', 'team1', 'team2', 'toss_winner',\n",
       "       'toss_decision', 'winner'],\n",
       "      dtype='object')"
      ]
     },
     "execution_count": 63,
     "metadata": {},
     "output_type": "execute_result"
    }
   ],
   "source": [
    "ipl.columns"
   ]
  },
  {
   "cell_type": "code",
   "execution_count": 16,
   "id": "6c06d475",
   "metadata": {},
   "outputs": [],
   "source": [
    "from sklearn.model_selection import train_test_split\n",
    "x_train, x_test, y_train, y_test = train_test_split(X, y, train_size = 0.75, test_size = 0.25)"
   ]
  },
  {
   "cell_type": "code",
   "execution_count": 17,
   "id": "1310c45a",
   "metadata": {},
   "outputs": [],
   "source": [
    "from sklearn.ensemble import RandomForestClassifier\n",
    "model = RandomForestClassifier(n_estimators=2000,min_samples_split=2,\n",
    "                               max_features = \"log2\")"
   ]
  },
  {
   "cell_type": "markdown",
   "id": "bed5b099",
   "metadata": {},
   "source": [
    "Here we *train* the model:"
   ]
  },
  {
   "cell_type": "code",
   "execution_count": 18,
   "id": "5bcd57e5",
   "metadata": {},
   "outputs": [
    {
     "data": {
      "text/plain": [
       "RandomForestClassifier(max_features='log2', n_estimators=2000)"
      ]
     },
     "execution_count": 18,
     "metadata": {},
     "output_type": "execute_result"
    }
   ],
   "source": [
    "model.fit(x_train, y_train)"
   ]
  },
  {
   "cell_type": "markdown",
   "id": "29365973",
   "metadata": {},
   "source": [
    "Now we **Test** the model:"
   ]
  },
  {
   "cell_type": "code",
   "execution_count": 19,
   "id": "aee7e780",
   "metadata": {},
   "outputs": [],
   "source": [
    "y_pred = model.predict(x_test)"
   ]
  },
  {
   "cell_type": "code",
   "execution_count": 100,
   "id": "4f1a0b40",
   "metadata": {},
   "outputs": [
    {
     "name": "stdout",
     "output_type": "stream",
     "text": [
      "[12 12  6  0  6  8  0  9  0  5 12 11 12  1  5  0  6  8  6  5  8  1 11  8\n",
      "  5  3 11 11  3  6  6  6  5  1  1  2  3  6  6  5  3  8  6  8  0  0 12  8\n",
      "  0  5  5  6 11  6  5 12 12  0  6  6  0  6  0  0  0  0  5  8  6  0  5  8\n",
      "  6  0 12  8  5  6  5  5  0 12  6  1 11  0  3  5  1  8  8  8  1  1  0  8\n",
      "  5  1  0  6  6  3  0  1 11  3 12  2  6  0  8 12  0  6  0  6 12  1  6 12\n",
      "  6  5  8  5  5  5  5 11  6  8 12  6  6  5  8  3  3  3  0  3  6  5  3  8\n",
      "  6  0  0  5  6  6  5  5  3 12  8  1  1  1  1  4  6 11  5  6  3 11  5  5\n",
      " 12  6 12  5  6 11  8  0  8  3  8  0  0  6  6 11  3  6]\n"
     ]
    }
   ],
   "source": [
    "print(y_pred)"
   ]
  },
  {
   "cell_type": "markdown",
   "id": "d399d5c0",
   "metadata": {},
   "source": [
    "**Note:** \n",
    "\n",
    "-> Higher the estimators, longer runtime but more accurate\n",
    "\n",
    "-> min_samples_split: number of samples in each leaf, higher means lesser overfit but lower accuracy\n"
   ]
  },
  {
   "cell_type": "code",
   "execution_count": 20,
   "id": "0f0e4fed",
   "metadata": {},
   "outputs": [
    {
     "data": {
      "text/plain": [
       "0.553763440860215"
      ]
     },
     "execution_count": 20,
     "metadata": {},
     "output_type": "execute_result"
    }
   ],
   "source": [
    "from sklearn.metrics import accuracy_score\n",
    "ac = accuracy_score(y_pred, y_test)\n",
    "ac"
   ]
  },
  {
   "cell_type": "markdown",
   "id": "ee790628",
   "metadata": {},
   "source": [
    "**############################################################**"
   ]
  },
  {
   "cell_type": "code",
   "execution_count": 21,
   "id": "0778364d",
   "metadata": {},
   "outputs": [
    {
     "name": "stdout",
     "output_type": "stream",
     "text": [
      "[[1.         0.46692198]\n",
      " [0.46692198 1.        ]]\n"
     ]
    }
   ],
   "source": [
    "mat = np.corrcoef(y_pred, y_test)\n",
    "print(mat)"
   ]
  },
  {
   "cell_type": "code",
   "execution_count": 22,
   "id": "da80c007",
   "metadata": {},
   "outputs": [],
   "source": [
    "combined = pd.DataFrame(dict(actual=y_pred, prediction=y_test))"
   ]
  },
  {
   "cell_type": "code",
   "execution_count": 23,
   "id": "8fbb7ba4",
   "metadata": {},
   "outputs": [
    {
     "data": {
      "text/html": [
       "<div>\n",
       "<style scoped>\n",
       "    .dataframe tbody tr th:only-of-type {\n",
       "        vertical-align: middle;\n",
       "    }\n",
       "\n",
       "    .dataframe tbody tr th {\n",
       "        vertical-align: top;\n",
       "    }\n",
       "\n",
       "    .dataframe thead th {\n",
       "        text-align: right;\n",
       "    }\n",
       "</style>\n",
       "<table border=\"1\" class=\"dataframe\">\n",
       "  <thead>\n",
       "    <tr style=\"text-align: right;\">\n",
       "      <th>prediction</th>\n",
       "      <th>0</th>\n",
       "      <th>1</th>\n",
       "      <th>2</th>\n",
       "      <th>3</th>\n",
       "      <th>4</th>\n",
       "      <th>5</th>\n",
       "      <th>6</th>\n",
       "      <th>7</th>\n",
       "      <th>8</th>\n",
       "      <th>9</th>\n",
       "      <th>10</th>\n",
       "      <th>11</th>\n",
       "      <th>12</th>\n",
       "      <th>13</th>\n",
       "    </tr>\n",
       "    <tr>\n",
       "      <th>actual</th>\n",
       "      <th></th>\n",
       "      <th></th>\n",
       "      <th></th>\n",
       "      <th></th>\n",
       "      <th></th>\n",
       "      <th></th>\n",
       "      <th></th>\n",
       "      <th></th>\n",
       "      <th></th>\n",
       "      <th></th>\n",
       "      <th></th>\n",
       "      <th></th>\n",
       "      <th></th>\n",
       "      <th></th>\n",
       "    </tr>\n",
       "  </thead>\n",
       "  <tbody>\n",
       "    <tr>\n",
       "      <th>0</th>\n",
       "      <td>14</td>\n",
       "      <td>2</td>\n",
       "      <td>0</td>\n",
       "      <td>1</td>\n",
       "      <td>0</td>\n",
       "      <td>1</td>\n",
       "      <td>1</td>\n",
       "      <td>2</td>\n",
       "      <td>5</td>\n",
       "      <td>2</td>\n",
       "      <td>0</td>\n",
       "      <td>0</td>\n",
       "      <td>1</td>\n",
       "      <td>0</td>\n",
       "    </tr>\n",
       "    <tr>\n",
       "      <th>1</th>\n",
       "      <td>2</td>\n",
       "      <td>7</td>\n",
       "      <td>0</td>\n",
       "      <td>2</td>\n",
       "      <td>0</td>\n",
       "      <td>0</td>\n",
       "      <td>0</td>\n",
       "      <td>0</td>\n",
       "      <td>1</td>\n",
       "      <td>0</td>\n",
       "      <td>0</td>\n",
       "      <td>2</td>\n",
       "      <td>1</td>\n",
       "      <td>0</td>\n",
       "    </tr>\n",
       "    <tr>\n",
       "      <th>2</th>\n",
       "      <td>0</td>\n",
       "      <td>0</td>\n",
       "      <td>2</td>\n",
       "      <td>0</td>\n",
       "      <td>0</td>\n",
       "      <td>0</td>\n",
       "      <td>0</td>\n",
       "      <td>0</td>\n",
       "      <td>0</td>\n",
       "      <td>0</td>\n",
       "      <td>0</td>\n",
       "      <td>0</td>\n",
       "      <td>0</td>\n",
       "      <td>0</td>\n",
       "    </tr>\n",
       "    <tr>\n",
       "      <th>3</th>\n",
       "      <td>1</td>\n",
       "      <td>3</td>\n",
       "      <td>0</td>\n",
       "      <td>7</td>\n",
       "      <td>0</td>\n",
       "      <td>2</td>\n",
       "      <td>1</td>\n",
       "      <td>0</td>\n",
       "      <td>0</td>\n",
       "      <td>0</td>\n",
       "      <td>0</td>\n",
       "      <td>2</td>\n",
       "      <td>0</td>\n",
       "      <td>0</td>\n",
       "    </tr>\n",
       "    <tr>\n",
       "      <th>4</th>\n",
       "      <td>0</td>\n",
       "      <td>0</td>\n",
       "      <td>0</td>\n",
       "      <td>0</td>\n",
       "      <td>0</td>\n",
       "      <td>0</td>\n",
       "      <td>0</td>\n",
       "      <td>0</td>\n",
       "      <td>0</td>\n",
       "      <td>0</td>\n",
       "      <td>0</td>\n",
       "      <td>1</td>\n",
       "      <td>0</td>\n",
       "      <td>0</td>\n",
       "    </tr>\n",
       "    <tr>\n",
       "      <th>5</th>\n",
       "      <td>1</td>\n",
       "      <td>1</td>\n",
       "      <td>0</td>\n",
       "      <td>2</td>\n",
       "      <td>0</td>\n",
       "      <td>19</td>\n",
       "      <td>0</td>\n",
       "      <td>1</td>\n",
       "      <td>2</td>\n",
       "      <td>0</td>\n",
       "      <td>0</td>\n",
       "      <td>3</td>\n",
       "      <td>1</td>\n",
       "      <td>0</td>\n",
       "    </tr>\n",
       "    <tr>\n",
       "      <th>6</th>\n",
       "      <td>3</td>\n",
       "      <td>3</td>\n",
       "      <td>0</td>\n",
       "      <td>2</td>\n",
       "      <td>0</td>\n",
       "      <td>1</td>\n",
       "      <td>25</td>\n",
       "      <td>0</td>\n",
       "      <td>1</td>\n",
       "      <td>0</td>\n",
       "      <td>1</td>\n",
       "      <td>3</td>\n",
       "      <td>1</td>\n",
       "      <td>0</td>\n",
       "    </tr>\n",
       "    <tr>\n",
       "      <th>8</th>\n",
       "      <td>0</td>\n",
       "      <td>3</td>\n",
       "      <td>0</td>\n",
       "      <td>1</td>\n",
       "      <td>1</td>\n",
       "      <td>1</td>\n",
       "      <td>2</td>\n",
       "      <td>0</td>\n",
       "      <td>9</td>\n",
       "      <td>0</td>\n",
       "      <td>0</td>\n",
       "      <td>3</td>\n",
       "      <td>1</td>\n",
       "      <td>2</td>\n",
       "    </tr>\n",
       "    <tr>\n",
       "      <th>9</th>\n",
       "      <td>0</td>\n",
       "      <td>0</td>\n",
       "      <td>0</td>\n",
       "      <td>0</td>\n",
       "      <td>0</td>\n",
       "      <td>0</td>\n",
       "      <td>0</td>\n",
       "      <td>0</td>\n",
       "      <td>0</td>\n",
       "      <td>1</td>\n",
       "      <td>0</td>\n",
       "      <td>0</td>\n",
       "      <td>0</td>\n",
       "      <td>0</td>\n",
       "    </tr>\n",
       "    <tr>\n",
       "      <th>11</th>\n",
       "      <td>1</td>\n",
       "      <td>0</td>\n",
       "      <td>1</td>\n",
       "      <td>4</td>\n",
       "      <td>0</td>\n",
       "      <td>0</td>\n",
       "      <td>0</td>\n",
       "      <td>0</td>\n",
       "      <td>0</td>\n",
       "      <td>0</td>\n",
       "      <td>0</td>\n",
       "      <td>6</td>\n",
       "      <td>0</td>\n",
       "      <td>0</td>\n",
       "    </tr>\n",
       "    <tr>\n",
       "      <th>12</th>\n",
       "      <td>0</td>\n",
       "      <td>0</td>\n",
       "      <td>0</td>\n",
       "      <td>3</td>\n",
       "      <td>0</td>\n",
       "      <td>0</td>\n",
       "      <td>0</td>\n",
       "      <td>0</td>\n",
       "      <td>0</td>\n",
       "      <td>0</td>\n",
       "      <td>0</td>\n",
       "      <td>1</td>\n",
       "      <td>13</td>\n",
       "      <td>0</td>\n",
       "    </tr>\n",
       "  </tbody>\n",
       "</table>\n",
       "</div>"
      ],
      "text/plain": [
       "prediction  0   1   2   3   4   5   6   7   8   9   10  11  12  13\n",
       "actual                                                            \n",
       "0           14   2   0   1   0   1   1   2   5   2   0   0   1   0\n",
       "1            2   7   0   2   0   0   0   0   1   0   0   2   1   0\n",
       "2            0   0   2   0   0   0   0   0   0   0   0   0   0   0\n",
       "3            1   3   0   7   0   2   1   0   0   0   0   2   0   0\n",
       "4            0   0   0   0   0   0   0   0   0   0   0   1   0   0\n",
       "5            1   1   0   2   0  19   0   1   2   0   0   3   1   0\n",
       "6            3   3   0   2   0   1  25   0   1   0   1   3   1   0\n",
       "8            0   3   0   1   1   1   2   0   9   0   0   3   1   2\n",
       "9            0   0   0   0   0   0   0   0   0   1   0   0   0   0\n",
       "11           1   0   1   4   0   0   0   0   0   0   0   6   0   0\n",
       "12           0   0   0   3   0   0   0   0   0   0   0   1  13   0"
      ]
     },
     "execution_count": 23,
     "metadata": {},
     "output_type": "execute_result"
    }
   ],
   "source": [
    "pd.crosstab(index=combined[\"actual\"], columns=combined[\"prediction\"])"
   ]
  },
  {
   "cell_type": "code",
   "execution_count": 24,
   "id": "6d702cf3",
   "metadata": {},
   "outputs": [],
   "source": [
    "from sklearn.metrics import precision_score"
   ]
  },
  {
   "cell_type": "code",
   "execution_count": 25,
   "id": "af27376f",
   "metadata": {
    "collapsed": true
   },
   "outputs": [
    {
     "ename": "ValueError",
     "evalue": "Target is multiclass but average='binary'. Please choose another average setting, one of [None, 'micro', 'macro', 'weighted'].",
     "output_type": "error",
     "traceback": [
      "\u001b[1;31m---------------------------------------------------------------------------\u001b[0m",
      "\u001b[1;31mValueError\u001b[0m                                Traceback (most recent call last)",
      "\u001b[1;32m~\\AppData\\Local\\Temp\\ipykernel_11592\\3146725249.py\u001b[0m in \u001b[0;36m<module>\u001b[1;34m\u001b[0m\n\u001b[1;32m----> 1\u001b[1;33m \u001b[0mprecision_score\u001b[0m\u001b[1;33m(\u001b[0m\u001b[0my_test\u001b[0m\u001b[1;33m,\u001b[0m \u001b[0my_pred\u001b[0m\u001b[1;33m)\u001b[0m\u001b[1;33m\u001b[0m\u001b[1;33m\u001b[0m\u001b[0m\n\u001b[0m",
      "\u001b[1;32m~\\anaconda3\\lib\\site-packages\\sklearn\\metrics\\_classification.py\u001b[0m in \u001b[0;36mprecision_score\u001b[1;34m(y_true, y_pred, labels, pos_label, average, sample_weight, zero_division)\u001b[0m\n\u001b[0;32m   1755\u001b[0m     \u001b[0marray\u001b[0m\u001b[1;33m(\u001b[0m\u001b[1;33m[\u001b[0m\u001b[1;36m0.5\u001b[0m\u001b[1;33m,\u001b[0m \u001b[1;36m1.\u001b[0m \u001b[1;33m,\u001b[0m \u001b[1;36m1.\u001b[0m \u001b[1;33m]\u001b[0m\u001b[1;33m)\u001b[0m\u001b[1;33m\u001b[0m\u001b[1;33m\u001b[0m\u001b[0m\n\u001b[0;32m   1756\u001b[0m     \"\"\"\n\u001b[1;32m-> 1757\u001b[1;33m     p, _, _, _ = precision_recall_fscore_support(\n\u001b[0m\u001b[0;32m   1758\u001b[0m         \u001b[0my_true\u001b[0m\u001b[1;33m,\u001b[0m\u001b[1;33m\u001b[0m\u001b[1;33m\u001b[0m\u001b[0m\n\u001b[0;32m   1759\u001b[0m         \u001b[0my_pred\u001b[0m\u001b[1;33m,\u001b[0m\u001b[1;33m\u001b[0m\u001b[1;33m\u001b[0m\u001b[0m\n",
      "\u001b[1;32m~\\anaconda3\\lib\\site-packages\\sklearn\\metrics\\_classification.py\u001b[0m in \u001b[0;36mprecision_recall_fscore_support\u001b[1;34m(y_true, y_pred, beta, labels, pos_label, average, warn_for, sample_weight, zero_division)\u001b[0m\n\u001b[0;32m   1542\u001b[0m     \u001b[1;32mif\u001b[0m \u001b[0mbeta\u001b[0m \u001b[1;33m<\u001b[0m \u001b[1;36m0\u001b[0m\u001b[1;33m:\u001b[0m\u001b[1;33m\u001b[0m\u001b[1;33m\u001b[0m\u001b[0m\n\u001b[0;32m   1543\u001b[0m         \u001b[1;32mraise\u001b[0m \u001b[0mValueError\u001b[0m\u001b[1;33m(\u001b[0m\u001b[1;34m\"beta should be >=0 in the F-beta score\"\u001b[0m\u001b[1;33m)\u001b[0m\u001b[1;33m\u001b[0m\u001b[1;33m\u001b[0m\u001b[0m\n\u001b[1;32m-> 1544\u001b[1;33m     \u001b[0mlabels\u001b[0m \u001b[1;33m=\u001b[0m \u001b[0m_check_set_wise_labels\u001b[0m\u001b[1;33m(\u001b[0m\u001b[0my_true\u001b[0m\u001b[1;33m,\u001b[0m \u001b[0my_pred\u001b[0m\u001b[1;33m,\u001b[0m \u001b[0maverage\u001b[0m\u001b[1;33m,\u001b[0m \u001b[0mlabels\u001b[0m\u001b[1;33m,\u001b[0m \u001b[0mpos_label\u001b[0m\u001b[1;33m)\u001b[0m\u001b[1;33m\u001b[0m\u001b[1;33m\u001b[0m\u001b[0m\n\u001b[0m\u001b[0;32m   1545\u001b[0m \u001b[1;33m\u001b[0m\u001b[0m\n\u001b[0;32m   1546\u001b[0m     \u001b[1;31m# Calculate tp_sum, pred_sum, true_sum ###\u001b[0m\u001b[1;33m\u001b[0m\u001b[1;33m\u001b[0m\u001b[0m\n",
      "\u001b[1;32m~\\anaconda3\\lib\\site-packages\\sklearn\\metrics\\_classification.py\u001b[0m in \u001b[0;36m_check_set_wise_labels\u001b[1;34m(y_true, y_pred, average, labels, pos_label)\u001b[0m\n\u001b[0;32m   1363\u001b[0m             \u001b[1;32mif\u001b[0m \u001b[0my_type\u001b[0m \u001b[1;33m==\u001b[0m \u001b[1;34m\"multiclass\"\u001b[0m\u001b[1;33m:\u001b[0m\u001b[1;33m\u001b[0m\u001b[1;33m\u001b[0m\u001b[0m\n\u001b[0;32m   1364\u001b[0m                 \u001b[0maverage_options\u001b[0m\u001b[1;33m.\u001b[0m\u001b[0mremove\u001b[0m\u001b[1;33m(\u001b[0m\u001b[1;34m\"samples\"\u001b[0m\u001b[1;33m)\u001b[0m\u001b[1;33m\u001b[0m\u001b[1;33m\u001b[0m\u001b[0m\n\u001b[1;32m-> 1365\u001b[1;33m             raise ValueError(\n\u001b[0m\u001b[0;32m   1366\u001b[0m                 \u001b[1;34m\"Target is %s but average='binary'. Please \"\u001b[0m\u001b[1;33m\u001b[0m\u001b[1;33m\u001b[0m\u001b[0m\n\u001b[0;32m   1367\u001b[0m                 \u001b[1;34m\"choose another average setting, one of %r.\"\u001b[0m \u001b[1;33m%\u001b[0m \u001b[1;33m(\u001b[0m\u001b[0my_type\u001b[0m\u001b[1;33m,\u001b[0m \u001b[0maverage_options\u001b[0m\u001b[1;33m)\u001b[0m\u001b[1;33m\u001b[0m\u001b[1;33m\u001b[0m\u001b[0m\n",
      "\u001b[1;31mValueError\u001b[0m: Target is multiclass but average='binary'. Please choose another average setting, one of [None, 'micro', 'macro', 'weighted']."
     ]
    }
   ],
   "source": [
    "precision_score(y_test, y_pred)"
   ]
  },
  {
   "cell_type": "markdown",
   "id": "b5cb79e9",
   "metadata": {},
   "source": [
    "trying to get **Rolling Averages** for a team to try and improve acc\n",
    "\n",
    "Note: Look into \""
   ]
  },
  {
   "cell_type": "code",
   "execution_count": null,
   "id": "2cbf2c97",
   "metadata": {},
   "outputs": [],
   "source": [
    "grouped_matches = ipl.groupby(\"team1\")\n",
    "group = grouped_matches.get_group(\"Royal Challengers Bangalore\")\n",
    "group"
   ]
  },
  {
   "cell_type": "code",
   "execution_count": null,
   "id": "66582c7f",
   "metadata": {},
   "outputs": [],
   "source": [
    "def rolling_avg(group, cols, new_cols):\n",
    "    #group = group.sort_values(\"date\")\n",
    "    rolling_stats = group[cols].rolling(3,closed='left'.mean())\n",
    "    group[new_cols] = rolling_stats\n",
    "    group = group.dropna(subset=new_cols)\n",
    "    return group"
   ]
  },
  {
   "cell_type": "markdown",
   "id": "d6fa826b",
   "metadata": {},
   "source": [
    "##################################################################"
   ]
  },
  {
   "cell_type": "markdown",
   "id": "b00907cf",
   "metadata": {},
   "source": [
    "Testing with our own data:"
   ]
  },
  {
   "cell_type": "code",
   "execution_count": 45,
   "id": "df587bee",
   "metadata": {},
   "outputs": [],
   "source": [
    "#user_input= ['Bangalore',0,'Royal Challengers Bangalore', 'Mumbai Indians', 'Royal Challengers Bangalore', 'bat']\n",
    "#user_input = pd.get_dummies(user_input, [\"city\", \"team1\",\"team2\", \"toss_winner\", \"toss_decision\"], drop_first = True)\n",
    "#user_input = pd.get_dummies(user_input, ['Bangalore', 0, 'Royal Challengers Bangalore', 'Mumbai Indians', 'Royal Challengers Bangalore', 'bat','Royal Challengers Bangalore'], drop_first = True)"
   ]
  },
  {
   "cell_type": "code",
   "execution_count": 92,
   "id": "2c016ba5",
   "metadata": {},
   "outputs": [],
   "source": [
    "user_input = pd.DataFrame(data = [['Bangalore',0,'Royal Challengers Bangalore', 'Mumbai Indians', 'Royal Challengers Bangalore', 'bat']], columns = ['city', 'neutral_venue', 'team1', 'team2', 'toss_winner',\n",
    "       'toss_decision'])"
   ]
  },
  {
   "cell_type": "code",
   "execution_count": 93,
   "id": "e575d96b",
   "metadata": {},
   "outputs": [
    {
     "data": {
      "text/html": [
       "<div>\n",
       "<style scoped>\n",
       "    .dataframe tbody tr th:only-of-type {\n",
       "        vertical-align: middle;\n",
       "    }\n",
       "\n",
       "    .dataframe tbody tr th {\n",
       "        vertical-align: top;\n",
       "    }\n",
       "\n",
       "    .dataframe thead th {\n",
       "        text-align: right;\n",
       "    }\n",
       "</style>\n",
       "<table border=\"1\" class=\"dataframe\">\n",
       "  <thead>\n",
       "    <tr style=\"text-align: right;\">\n",
       "      <th></th>\n",
       "      <th>city</th>\n",
       "      <th>neutral_venue</th>\n",
       "      <th>team1</th>\n",
       "      <th>team2</th>\n",
       "      <th>toss_winner</th>\n",
       "      <th>toss_decision</th>\n",
       "    </tr>\n",
       "  </thead>\n",
       "  <tbody>\n",
       "    <tr>\n",
       "      <th>0</th>\n",
       "      <td>Bangalore</td>\n",
       "      <td>0</td>\n",
       "      <td>Royal Challengers Bangalore</td>\n",
       "      <td>Mumbai Indians</td>\n",
       "      <td>Royal Challengers Bangalore</td>\n",
       "      <td>bat</td>\n",
       "    </tr>\n",
       "  </tbody>\n",
       "</table>\n",
       "</div>"
      ],
      "text/plain": [
       "        city  neutral_venue                        team1           team2  \\\n",
       "0  Bangalore              0  Royal Challengers Bangalore  Mumbai Indians   \n",
       "\n",
       "                   toss_winner toss_decision  \n",
       "0  Royal Challengers Bangalore           bat  "
      ]
     },
     "execution_count": 93,
     "metadata": {},
     "output_type": "execute_result"
    }
   ],
   "source": [
    "user_input"
   ]
  },
  {
   "cell_type": "code",
   "execution_count": 94,
   "id": "b2accaa1",
   "metadata": {},
   "outputs": [],
   "source": [
    "user_input = pd.get_dummies(user_input)"
   ]
  },
  {
   "cell_type": "code",
   "execution_count": 95,
   "id": "df2cec2b",
   "metadata": {},
   "outputs": [
    {
     "data": {
      "text/html": [
       "<div>\n",
       "<style scoped>\n",
       "    .dataframe tbody tr th:only-of-type {\n",
       "        vertical-align: middle;\n",
       "    }\n",
       "\n",
       "    .dataframe tbody tr th {\n",
       "        vertical-align: top;\n",
       "    }\n",
       "\n",
       "    .dataframe thead th {\n",
       "        text-align: right;\n",
       "    }\n",
       "</style>\n",
       "<table border=\"1\" class=\"dataframe\">\n",
       "  <thead>\n",
       "    <tr style=\"text-align: right;\">\n",
       "      <th></th>\n",
       "      <th>neutral_venue</th>\n",
       "      <th>city_Bangalore</th>\n",
       "      <th>team1_Royal Challengers Bangalore</th>\n",
       "      <th>team2_Mumbai Indians</th>\n",
       "      <th>toss_winner_Royal Challengers Bangalore</th>\n",
       "      <th>toss_decision_bat</th>\n",
       "    </tr>\n",
       "  </thead>\n",
       "  <tbody>\n",
       "    <tr>\n",
       "      <th>0</th>\n",
       "      <td>0</td>\n",
       "      <td>1</td>\n",
       "      <td>1</td>\n",
       "      <td>1</td>\n",
       "      <td>1</td>\n",
       "      <td>1</td>\n",
       "    </tr>\n",
       "  </tbody>\n",
       "</table>\n",
       "</div>"
      ],
      "text/plain": [
       "   neutral_venue  city_Bangalore  team1_Royal Challengers Bangalore  \\\n",
       "0              0               1                                  1   \n",
       "\n",
       "   team2_Mumbai Indians  toss_winner_Royal Challengers Bangalore  \\\n",
       "0                     1                                        1   \n",
       "\n",
       "   toss_decision_bat  \n",
       "0                  1  "
      ]
     },
     "execution_count": 95,
     "metadata": {},
     "output_type": "execute_result"
    }
   ],
   "source": [
    "user_input"
   ]
  },
  {
   "cell_type": "code",
   "execution_count": 96,
   "id": "9fde8855",
   "metadata": {},
   "outputs": [],
   "source": [
    "user_input = user_input.reindex(columns = X.columns, fill_value=0)"
   ]
  },
  {
   "cell_type": "code",
   "execution_count": 97,
   "id": "e23fed68",
   "metadata": {},
   "outputs": [
    {
     "data": {
      "text/plain": [
       "(1, 68)"
      ]
     },
     "execution_count": 97,
     "metadata": {},
     "output_type": "execute_result"
    }
   ],
   "source": [
    "user_input.shape"
   ]
  },
  {
   "cell_type": "code",
   "execution_count": 98,
   "id": "3448397b",
   "metadata": {},
   "outputs": [],
   "source": [
    "pred = model.predict(user_input)"
   ]
  },
  {
   "cell_type": "code",
   "execution_count": 101,
   "id": "21c907a2",
   "metadata": {},
   "outputs": [
    {
     "name": "stdout",
     "output_type": "stream",
     "text": [
      "['Mumbai Indians']\n"
     ]
    }
   ],
   "source": [
    "print(le.inverse_transform(pred))"
   ]
  },
  {
   "cell_type": "code",
   "execution_count": null,
   "id": "1b0ab987",
   "metadata": {},
   "outputs": [],
   "source": []
  }
 ],
 "metadata": {
  "kernelspec": {
   "display_name": "Python 3 (ipykernel)",
   "language": "python",
   "name": "python3"
  },
  "language_info": {
   "codemirror_mode": {
    "name": "ipython",
    "version": 3
   },
   "file_extension": ".py",
   "mimetype": "text/x-python",
   "name": "python",
   "nbconvert_exporter": "python",
   "pygments_lexer": "ipython3",
   "version": "3.9.13"
  }
 },
 "nbformat": 4,
 "nbformat_minor": 5
}
